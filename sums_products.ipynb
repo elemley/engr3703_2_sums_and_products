{
 "cells": [
  {
   "cell_type": "markdown",
   "metadata": {},
   "source": [
    "# Sums and Products\n",
    "## Sums"
   ]
  },
  {
   "cell_type": "markdown",
   "metadata": {},
   "source": [
    "In engineering calculations you often need to calculate a summation... for example\n",
    "\n",
    "$\\large \\sum_{i=1}^{n} x_i \\label{eq1}\\tag{1}$\n",
    "\n",
    "One can implement \\ref{eq1} in code as follows:\n",
    "\n",
    "\n"
   ]
  },
  {
   "cell_type": "code",
   "execution_count": 1,
   "metadata": {},
   "outputs": [
    {
     "name": "stdout",
     "output_type": "stream",
     "text": [
      "73\n"
     ]
    }
   ],
   "source": [
    "x = [12, 14, 11, 10, 15, 11]  # define x list\n",
    "n = len(x)  # get length of list #n=6\n",
    "summ = 0\n",
    "for i in range(0, n):  # first list index is 0... so the i in the equation we are trying to calc.\n",
    "    #i = 0,1,2,3,4,5\n",
    "    summ +=  x[i]  # This loop will execute for i values of 0-5, which correspond to\n",
    "print(summ)  # The six elements in x\n"
   ]
  },
  {
   "cell_type": "markdown",
   "metadata": {},
   "source": [
    "### Mean and Standard Deviation\n",
    "\n",
    "The mean for a set of values, $\\bar{x}$ is defined as <br/><br/>\n",
    "$\\large \\bar{x} = \\frac{\\sum_{i=1}^{n} x_i}{n} \\label{eq2}\\tag{2} $\n",
    "\n",
    "The sample standard deviation is the square root of the sample variance and is found as follows:<br/><br/>\n",
    "\n",
    "$ \\large s = \\sqrt[]{ \\frac{\\sum_{i=1}^{n} (x_i - \\bar{x})}{n-1}} \\label{eq3}\\tag{3} $\n",
    "\n",
    "In the cell below write your own code to find the mean and sample standard deviation of supplied list for $x$. Use Eqs. $\\ref{eq2}$ and $\\ref{eq3}$.\n",
    "\n"
   ]
  },
  {
   "cell_type": "code",
   "execution_count": 2,
   "metadata": {},
   "outputs": [],
   "source": [
    "x = [3, 2, 4, 4, 3, 3, 2, 3, 4, 3, 3, 3, 2, 4]\n",
    "#Place your code below\n",
    "\n",
    "    "
   ]
  },
  {
   "cell_type": "markdown",
   "metadata": {},
   "source": [
    "### More Summation Examples\n",
    "\n",
    "Here is another summation:\n",
    "$\\large\\sum_{i=1}^{n} i^3 \\label{eq4}\\tag{4}$\n",
    "\n",
    "The code to calculate $\\ref{eq4}$ is below.\n"
   ]
  },
  {
   "cell_type": "code",
   "execution_count": 3,
   "metadata": {},
   "outputs": [
    {
     "name": "stdout",
     "output_type": "stream",
     "text": [
      "3025\n",
      "3025\n"
     ]
    }
   ],
   "source": [
    "summ = 0\n",
    "n = 10\n",
    "for i in range(0, n):\n",
    "    summ += (i + 1) ** 3  # here we have to use i+1 since i is being used in the calculation\n",
    "print(summ)\n",
    "\n",
    "#To use the index as it is written (1 - 10) you would need to do the following:\n",
    "summ = 0\n",
    "for i in range(1, n+1):\n",
    "    summ += i**3  # here we have to use i+1 since i is being used in the calculation\n",
    "print(summ)\n",
    "\n"
   ]
  },
  {
   "cell_type": "markdown",
   "metadata": {},
   "source": [
    "Here is another summation:\n",
    "$\\large\\sum_{i=1}^{n} a^i \\label{eq5}\\tag{5}$\n",
    "\n",
    "The code to calculate $\\ref{eq5}$ is below.\n"
   ]
  },
  {
   "cell_type": "code",
   "execution_count": 4,
   "metadata": {},
   "outputs": [
    {
     "name": "stdout",
     "output_type": "stream",
     "text": [
      "2046\n",
      "2046\n"
     ]
    }
   ],
   "source": [
    "summ = 0\n",
    "n = 10\n",
    "a = 2\n",
    "for i in range(0, n):\n",
    "    summ += a **(i+1)  # here we have to use i+1 since i is being used in the calculation\n",
    "print(summ)\n",
    "\n",
    "#Or if you want to make the summation look more like the equation...\n",
    "summ = 0\n",
    "for i in range(1, n+1):\n",
    "    summ += a**(i)  # here we have to use i+1 since i is being used in the calculation\n",
    "print(summ)\n"
   ]
  },
  {
   "cell_type": "markdown",
   "metadata": {},
   "source": [
    "### Double Sums\n",
    "\n",
    "Double summations come up pretty often. Here is an example:\n",
    "\n",
    "$ \\large \\sum_{i=1}^{n} \\sum_{j=1}^{n} \\lvert a_{i,j} \\rvert \\label{eqn6}\\tag{6} $\n",
    "\n",
    "Eq. $\\ref{eqn6}$ could be coded as shown below. Note without using numpy arrays, you actually need a list of lists to do this...\n",
    "\n"
   ]
  },
  {
   "cell_type": "code",
   "execution_count": 2,
   "metadata": {},
   "outputs": [
    {
     "name": "stdout",
     "output_type": "stream",
     "text": [
      "i=0 \t j=0 \t summ=0.143\n",
      "i=0 \t j=1 \t summ=0.5\n",
      "i=0 \t j=2 \t summ=2.51\n",
      "i=1 \t j=0 \t summ=3.82\n",
      "i=1 \t j=1 \t summ=4.731\n",
      "i=1 \t j=2 \t summ=6.721\n",
      "i=2 \t j=0 \t summ=17.921\n",
      "i=2 \t j=1 \t summ=22.221\n",
      "i=2 \t j=2 \t summ=22.826\n",
      "22.826\n"
     ]
    }
   ],
   "source": [
    "a = [[0.143, 0.357,2.01], [-1.31, 0.911, 1.99],[11.2, -4.30, -0.605]]   #this is a list of lists\n",
    "#a above is like a matrix\n",
    "summ = 0\n",
    "n = len(a)     #note this will return 3 - the number of lists in the main list -- like rows in a matrix\n",
    "for i in range(0,n):\n",
    "    for j in range(0,n):\n",
    "        summ+=abs(a[i][j])\n",
    "        print(f\"i={i} \\t j={j} \\t summ={summ}\")    #this is included to show you how the indices work for nested loops\n",
    "\n",
    "print(summ)\n"
   ]
  },
  {
   "cell_type": "markdown",
   "metadata": {},
   "source": [
    "### Infinite Sums\n",
    "\n",
    "Many sums you need to calculate are infinite sums... not that you actually calculate them to inifinity (which I address below).\n",
    "\n",
    "$\\large\\sum_{i=1}^{\\infty} \\frac{x^i}{i!} \\label{eq7}\\tag{7}$\n",
    "\n",
    "In order to decide when to truncate the summation in code, we need the concept of fractional relative error, defined as: \n",
    "\n",
    "$\\large \\epsilon_r = \\lvert \\frac{f_i -f_{i-1}}{f_i} \\rvert \\label{eq8}\\tag{8}$\n",
    "\n",
    "where $f_i$ is the current iteration, $i$, value of some quantity you would like to calculate, and $f_{i-1}$ was the previous iteration calculated value for $f$.\n",
    "\n",
    "The code below calculates $\\ref{eq7}$ subject to $\\epsilon_r$ (from $\\ref{eq7}$) dropping below a stopping criterion, $\\epsilon_s$ of $1x10^{-m}$ where $m$ can be changed to suit your needs."
   ]
  },
  {
   "cell_type": "code",
   "execution_count": 6,
   "metadata": {},
   "outputs": [
    {
     "name": "stdout",
     "output_type": "stream",
     "text": [
      "╒═════╤═════════╤═══════════╕\n",
      "│   i │       f │ rel err   │\n",
      "╞═════╪═════════╪═══════════╡\n",
      "│   1 │ 1       │ NA        │\n",
      "├─────┼─────────┼───────────┤\n",
      "│   2 │ 2       │ 1.00e+00  │\n",
      "├─────┼─────────┼───────────┤\n",
      "│   3 │ 2.5     │ 2.00e-01  │\n",
      "├─────┼─────────┼───────────┤\n",
      "│   4 │ 2.66667 │ 6.25e-02  │\n",
      "├─────┼─────────┼───────────┤\n",
      "│   5 │ 2.70833 │ 1.54e-02  │\n",
      "├─────┼─────────┼───────────┤\n",
      "│   6 │ 2.71667 │ 3.07e-03  │\n",
      "├─────┼─────────┼───────────┤\n",
      "│   7 │ 2.71806 │ 5.11e-04  │\n",
      "├─────┼─────────┼───────────┤\n",
      "│   8 │ 2.71825 │ 7.30e-05  │\n",
      "├─────┼─────────┼───────────┤\n",
      "│   9 │ 2.71828 │ 9.12e-06  │\n",
      "├─────┼─────────┼───────────┤\n",
      "│  10 │ 2.71828 │ 1.01e-06  │\n",
      "├─────┼─────────┼───────────┤\n",
      "│  11 │ 2.71828 │ 1.01e-07  │\n",
      "├─────┼─────────┼───────────┤\n",
      "│  12 │ 2.71828 │ 9.22e-09  │\n",
      "├─────┼─────────┼───────────┤\n",
      "│  13 │ 2.71828 │ 7.68e-10  │\n",
      "╘═════╧═════════╧═══════════╛\n"
     ]
    }
   ],
   "source": [
    "from math import *\n",
    "from tabulate import tabulate\n",
    "# here is an example summation in eq. 4:\n",
    "# here we are going to implement a loop that proceeds until the fractional relative error drops below 1e-5\n",
    "# The fractional relative error is defined in Eq. 5 (we will use rel_err in the code below)\n",
    "f = 0  # this is the function value we are calculating\n",
    "f_old = 0  # holding place for old value of f in iterations\n",
    "err_stop = 1e-9  # this is what is called the stopping criterion\n",
    "rel_err = 1.1 * err_stop  # initially make sure rel_err is defined to be more than the err_stop\n",
    "max_iter = 1000  # set a max number of iterations\n",
    "x = 1  # argument of function in Eq. 4\n",
    "f_string = \"f\"\n",
    "i_string = \"i\"\n",
    "rel_err_string = \"rel err\"\n",
    "table = [[i_string,f_string,rel_err_string]]\n",
    "\n",
    "for i in range(0, max_iter):  # for loop that will execute max_iter times unless there is a 'break'\n",
    "    f = f + pow(x, i) / factorial(i)  # here we have to use i+1 since i is being used in the calculation\n",
    "    if i > 0:  # calc rel_err for all iterations but the first\n",
    "        rel_err = abs((f - f_old) / f)  # calc rel_err\n",
    "        if rel_err <= err_stop:  # is rel_err less than the err_stop\n",
    "            #print(\"%d %1.10wf  %1.3e\" % (i+1,f, rel_err))\n",
    "            #table.append([i,f,rel_err])\n",
    "            table.append([i + 1, f\"{f:.15e}\", f\"{rel_err:.2e}\"])\n",
    "            break  # if it is less then stop iterating\n",
    "        else:  # if rel_err is still > than err_stop place the current value of f in f_old\n",
    "            f_old = f  # the new value of f_old will be used in the next iteration\n",
    "        table.append([i + 1, f\"{f:.15e}\", f\"{rel_err:.2e}\"])\n",
    "    else:\n",
    "        table.append([i+1, f\"{f:.15e}\", \"NA\"])\n",
    "    #print(\"%d %1.10f  %1.3e\" % (i + 1, f, rel_err))\n",
    "    #print(f, i + 1, rel_err)\n",
    "\n",
    "print(tabulate(table,tablefmt=\"fancy_grid\", headers=\"firstrow\"))\n"
   ]
  },
  {
   "cell_type": "markdown",
   "metadata": {},
   "source": [
    "## Products\n",
    "Another fairly common calculation for engineers is calculating products:\n",
    "\n",
    "$\\large \\prod_{i=1}^{n} x_i = x_1 x_2 x_3 ... x_n \\label{eq9}\\tag{9}$ \n",
    "\n",
    "Coding products is a little different than summations. See below for an example that calculates Eq. $\\ref{eq9}$."
   ]
  },
  {
   "cell_type": "code",
   "execution_count": 7,
   "metadata": {},
   "outputs": [
    {
     "name": "stdout",
     "output_type": "stream",
     "text": [
      "3049200\n"
     ]
    }
   ],
   "source": [
    "x = [12, 14, 11, 10, 15, 11]  # define x list\n",
    "prod = 1  #initialize to 1 so terms get multiplied by 1 to start with\n",
    "n = len(x)\n",
    "for i in range(0,n):\n",
    "    prod*= x[i]\n",
    "print(prod)\n"
   ]
  },
  {
   "cell_type": "code",
   "execution_count": null,
   "metadata": {},
   "outputs": [],
   "source": []
  },
  {
   "cell_type": "markdown",
   "metadata": {},
   "source": [
    "## Mixed Sums and Products\n",
    "\n",
    "Now we will get really fancy and combine what we have learned. Consider the calculation:\n",
    "\n",
    "$ \\sum_{i=1}^{n} \\prod_{\\substack{j=1 \\\\ j \\neq i}}^{n} (x_i - x_j)  = (x_1 - x_2)(x_1 - x_3)...(x_1 - x_n) + (x_2 - x_1)(x_2 - x_3)...(x_2 - x_n) + ... + (x_n - x_1)(x_n - x_2)...(x_n - x_{n-1})  \\label{eq10} \\tag{10}   $\n",
    "\n",
    "Here is how Eq. $\\ref{eq10}$ would be coded."
   ]
  },
  {
   "cell_type": "code",
   "execution_count": 8,
   "metadata": {},
   "outputs": [
    {
     "name": "stdout",
     "output_type": "stream",
     "text": [
      "i=0 \t j=1 \t prod=-2\n",
      "i=0 \t j=2 \t prod=-2\n",
      "i=0 \t j=3 \t prod=-4\n",
      "i=0 \t j=4 \t prod=12\n",
      "i=0 \t j=5 \t prod=12\n",
      "summ=12\n",
      "i=1 \t j=0 \t prod=2\n",
      "i=1 \t j=2 \t prod=6\n",
      "i=1 \t j=3 \t prod=24\n",
      "i=1 \t j=4 \t prod=-24\n",
      "i=1 \t j=5 \t prod=-72\n",
      "summ=-60\n",
      "i=2 \t j=0 \t prod=-1\n",
      "i=2 \t j=1 \t prod=3\n",
      "i=2 \t j=3 \t prod=3\n",
      "i=2 \t j=4 \t prod=-12\n",
      "i=2 \t j=5 \t prod=0\n",
      "summ=-60\n",
      "i=3 \t j=0 \t prod=-2\n",
      "i=3 \t j=1 \t prod=8\n",
      "i=3 \t j=2 \t prod=-8\n",
      "i=3 \t j=4 \t prod=40\n",
      "i=3 \t j=5 \t prod=-40\n",
      "summ=-100\n",
      "i=4 \t j=0 \t prod=3\n",
      "i=4 \t j=1 \t prod=3\n",
      "i=4 \t j=2 \t prod=12\n",
      "i=4 \t j=3 \t prod=60\n",
      "i=4 \t j=5 \t prod=240\n",
      "summ=140\n",
      "i=5 \t j=0 \t prod=-1\n",
      "i=5 \t j=1 \t prod=3\n",
      "i=5 \t j=2 \t prod=0\n",
      "i=5 \t j=3 \t prod=0\n",
      "i=5 \t j=4 \t prod=0\n",
      "summ=140\n",
      "140\n"
     ]
    }
   ],
   "source": [
    "x = [12, 14, 11, 10, 15, 11]  # define x list\n",
    "summ = 0\n",
    "n = len(x)\n",
    "for i in range(0,n):\n",
    "    prod = 1\n",
    "    for j in range(0,n):\n",
    "        if j != i:\n",
    "            prod*=(x[i]-x[j])\n",
    "            print(f\"i={i} \\t j={j} \\t prod={prod}\")\n",
    "    summ+=prod\n",
    "    print(f\"summ={summ}\")\n",
    "    \n",
    "print(summ)\n"
   ]
  },
  {
   "cell_type": "markdown",
   "metadata": {},
   "source": [
    "### A Special Mixed Sum and Product - LaGrange Interpolating Polynomials\n",
    "There is a technique known as LaGrange Interpolating Polynomials to estimate a polynomial that goes exactly through a set of $x,y$ data. If the the $x,y$ ordered pair data has $n$ points, then this technique creates a $n-1$ order polynomial, so that for $x$-values in between those in the data set, you can estimate a $y$-value. The LaGrange polynomial formula is:\n",
    "\n",
    "$\\large \\sum_{i=1}^{n} y_i \\prod_{\\substack{j=1 \\\\ j \\neq i}}^{n} \\frac{x-x_j}{x_i-x_j} \\label{eqn11}\\tag{11}$\n",
    "\n",
    "An example of using Eq.$\\ref{eqn11}$ is below.\n",
    "\n"
   ]
  },
  {
   "cell_type": "markdown",
   "metadata": {},
   "source": [
    "Problem 1. sasdfsdfasfgasdfas"
   ]
  },
  {
   "cell_type": "code",
   "execution_count": 7,
   "metadata": {},
   "outputs": [
    {
     "data": {
      "image/png": "[encoded data removed]",
      "text/plain": [
       "<Figure size 432x288 with 1 Axes>"
      ]
     },
     "metadata": {
      "needs_background": "light"
     },
     "output_type": "display_data"
    }
   ],
   "source": [
    "%matplotlib inline\n",
    "\n",
    "import sys\n",
    "sys.path.append(\"/home/elemley/engr3703\")\n",
    "from psm_plot import *\n",
    "\n",
    "def lagrange(x,y,xval):\n",
    "    summ = 0\n",
    "    prod = 1\n",
    "    n = len(x)\n",
    "    for i in range(0, n):\n",
    "        prod = 1\n",
    "        for j in range(0, n):\n",
    "            if i != j:\n",
    "                prod = prod * (xval - x[j]) / (x[i] - x[j])\n",
    "        summ += y[i] * prod\n",
    "    yval = summ\n",
    "    return yval\n",
    "\n",
    "\n",
    "def main():\n",
    "    # place code here to compute eq. 9 as discussed in the sums_and_products.pdf\n",
    "\n",
    "    # ENGR3703 your code here\n",
    "\n",
    "    x = [ 0, 0.1, 0.2, 0.3, 0.4, 0.5, 0.6, 0.7, 0.8, 0.9, 1]\n",
    "    y = [0.1, 0.08023, 0.02016, -0.08351, -0.23408, -0.43125, -0.66752, -0.92459, -1.16976, -1.35233, -1.4]\n",
    "\n",
    "    xvals = [0.05,.15,.25,0.35,0.45, 0.55,0.65,0.75,0.85,0.95]\n",
    "    yvals = []\n",
    "    for xval in xvals:\n",
    "        yvals.append(lagrange(x,y,xval))\n",
    "\n",
    "\n",
    "    TwoScatterColorsPlot111(x,y,\"Data\",xvals,yvals,\"Interpolated Values\",\"x\",\"y\",\"LaGrange Interpolation\",\"lagrange_interp.png\")\n",
    "\n",
    "# please just leave this and don't change it...\n",
    "# these next two lines make sure main() runs everytime this code file is executed\n",
    "if __name__ == '__main__':\n",
    "    main()\n",
    "    "
   ]
  }
 ],
 "metadata": {
  "kernelspec": {
   "display_name": "Python 3",
   "language": "python",
   "name": "python3"
  },
  "language_info": {
   "codemirror_mode": {
    "name": "ipython",
    "version": 3
   },
   "file_extension": ".py",
   "mimetype": "text/x-python",
   "name": "python",
   "nbconvert_exporter": "python",
   "pygments_lexer": "ipython3",
   "version": "3.7.4"
  }
 },
 "nbformat": 4,
 "nbformat_minor": 4
}
